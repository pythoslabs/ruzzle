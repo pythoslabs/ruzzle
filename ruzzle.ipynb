{
 "cells": [
  {
   "cell_type": "code",
   "execution_count": 4,
   "metadata": {
    "collapsed": true
   },
   "outputs": [],
   "source": [
    "# -------------------------\n",
    "# Author : Pythos\n",
    "# About : Scrapes all words from http://www.ruzzleleague.com/boards/all-words/\n",
    "# Date Created : 22 Mar 2020\n",
    "# -------------------------\n",
    "\n",
    "from bs4 import BeautifulSoup\n",
    "import urllib as urllibObj\n",
    "import urllib # this is for image retrieval\n",
    "from urllib.request import Request, urlopen # this is for soup\n",
    "import time\n",
    "import os  # get the file list in the directory\n",
    "\n",
    "\n",
    "def Fn_write_one_line(tup_):\n",
    "    file_csv = \"out2.csv\"\n",
    "    target_csv = open(file_csv, 'a')\n",
    "    sLine_csv = (\"\\\"%s\\\",\\\"%s\\\",\\\"%s\\\",\\\"%s\\\"\\n\" %(tup_[0],tup_[1],tup_[2],tup_[3]))\n",
    "    target_csv.write(sLine_csv)\n",
    "    target_csv.close()\n",
    "    \n",
    "    # Write into a pipe delimited file \n",
    "    file_pipe = \"pipe_sep2.txt\"\n",
    "    target_pipe = open(file_pipe, 'a')\n",
    "    sLine_pipe = (\"%s|%s|%s|%s\\n\" %(tup_[0],tup_[1],tup_[2],tup_[3]))\n",
    "    target_pipe.write(sLine_pipe)\n",
    "    target_pipe.close()\n"
   ]
  },
  {
   "cell_type": "code",
   "execution_count": 5,
   "metadata": {},
   "outputs": [],
   "source": [
    "Fn_write_one_line(('Word','Definition','Hooks','# of Boards'))\n",
    "\n",
    "for num in range(1,4):\n",
    "    search_url = \"http://www.ruzzleleague.com/boards/all-words/page-\"+str(num)\n",
    "    page = urlopen(Request(search_url))\n",
    "    soup = BeautifulSoup(page , \"lxml\")\n",
    "    data_chunk_prof_id_block = soup.findAll(\"tr\")\n",
    "    for tr_chunk in data_chunk_prof_id_block :\n",
    "        td_chunk = tr_chunk.findAll(\"td\")\n",
    "        if len(td_chunk) > 0 :\n",
    "            word = td_chunk[0].text\n",
    "            defn =  td_chunk[1].text\n",
    "            hooks =  td_chunk[2].text\n",
    "            boards =  td_chunk[3].text\n",
    "            Fn_write_one_line((word,defn,hooks,boards))\n",
    "\n",
    "print(\"Scraping done ! \")        "
   ]
  },
  {
   "cell_type": "code",
   "execution_count": null,
   "metadata": {
    "collapsed": true
   },
   "outputs": [],
   "source": []
  }
 ],
 "metadata": {
  "kernelspec": {
   "display_name": "Python 3",
   "language": "python",
   "name": "python3"
  },
  "language_info": {
   "codemirror_mode": {
    "name": "ipython",
    "version": 3
   },
   "file_extension": ".py",
   "mimetype": "text/x-python",
   "name": "python",
   "nbconvert_exporter": "python",
   "pygments_lexer": "ipython3",
   "version": "3.5.4"
  }
 },
 "nbformat": 4,
 "nbformat_minor": 2
}
